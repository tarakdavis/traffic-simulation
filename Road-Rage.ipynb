{
 "cells": [
  {
   "cell_type": "code",
   "execution_count": 1,
   "metadata": {
    "collapsed": false
   },
   "outputs": [
    {
     "name": "stdout",
     "output_type": "stream",
     "text": [
      "[position: [0 5], speed: 0, position: [ 33.33333333  38.33333333], speed: 0, position: [ 66.66666667  71.66666667], speed: 0, position: [ 100.  105.], speed: 0, position: [ 133.33333333  138.33333333], speed: 0, position: [ 166.66666667  171.66666667], speed: 0, position: [ 200.  205.], speed: 0, position: [ 233.33333333  238.33333333], speed: 0, position: [ 266.66666667  271.66666667], speed: 0, position: [ 300.  305.], speed: 0, position: [ 333.33333333  338.33333333], speed: 0, position: [ 366.66666667  371.66666667], speed: 0, position: [ 400.  405.], speed: 0, position: [ 433.33333333  438.33333333], speed: 0, position: [ 466.66666667  471.66666667], speed: 0, position: [ 500.  505.], speed: 0, position: [ 533.33333333  538.33333333], speed: 0, position: [ 566.66666667  571.66666667], speed: 0, position: [ 600.  605.], speed: 0, position: [ 633.33333333  638.33333333], speed: 0, position: [ 666.66666667  671.66666667], speed: 0, position: [ 700.  705.], speed: 0, position: [ 733.33333333  738.33333333], speed: 0, position: [ 766.66666667  771.66666667], speed: 0, position: [ 800.  805.], speed: 0, position: [ 833.33333333  838.33333333], speed: 0, position: [ 866.66666667  871.66666667], speed: 0, position: [ 900.  905.], speed: 0, position: [ 933.33333333  938.33333333], speed: 0, position: [ 966.66666667  971.66666667], speed: 0]\n",
      "Average Speed: 27.54888888888889, Standard Deviation: 8.514112072258385, Speed Limit: 36\n"
     ]
    }
   ],
   "source": [
    "import numpy as np\n",
    "import matplotlib.pyplot as plt\n",
    "import statistics\n",
    "import road_rage\n",
    "from traffic4 import *\n"
   ]
  },
  {
   "cell_type": "markdown",
   "metadata": {},
   "source": [
    "# Traffic - Simulation "
   ]
  }
 ],
 "metadata": {
  "kernelspec": {
   "display_name": "Python 3",
   "language": "python",
   "name": "python3"
  },
  "language_info": {
   "codemirror_mode": {
    "name": "ipython",
    "version": 3
   },
   "file_extension": ".py",
   "mimetype": "text/x-python",
   "name": "python",
   "nbconvert_exporter": "python",
   "pygments_lexer": "ipython3",
   "version": "3.5.2"
  }
 },
 "nbformat": 4,
 "nbformat_minor": 0
}

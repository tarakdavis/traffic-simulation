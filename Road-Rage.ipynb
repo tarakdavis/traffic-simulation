{
 "cells": [
  {
   "cell_type": "code",
   "execution_count": null,
   "metadata": {
    "collapsed": true
   },
   "outputs": [],
   "source": [
    "import numpy as np\n",
    "import matplotlib.pyplot as plt\n",
    "import statistics"
   ]
  },
  {
   "cell_type": "markdown",
   "metadata": {},
   "source": [
    "# Traffic - Simulation "
   ]
  },
  {
   "cell_type": "code",
   "execution_count": 3,
   "metadata": {
    "collapsed": false
   },
   "outputs": [
    {
     "ename": "IndentationError",
     "evalue": "expected an indented block (<ipython-input-3-284d843d61ef>, line 13)",
     "output_type": "error",
     "traceback": [
      "\u001b[0;36m  File \u001b[0;32m\"<ipython-input-3-284d843d61ef>\"\u001b[0;36m, line \u001b[0;32m13\u001b[0m\n\u001b[0;31m    \"\"\"Car matches speed of car in front if about to hit.\"\"\"\u001b[0m\n\u001b[0m                                                           ^\u001b[0m\n\u001b[0;31mIndentationError\u001b[0m\u001b[0;31m:\u001b[0m expected an indented block\n"
     ]
    }
   ],
   "source": [
    "class Car:\n",
    "    def __init__(self, max_speed=33.33, size=5, accel=2, location=0, slow_percentage=0.1, position):\n",
    "        self.max_speed = max_speed\n",
    "        self.size = size\n",
    "        self.accel = accel\n",
    "        self.location = location\n",
    "        self.slow_percentage = slow_percentage\n",
    "        self.position = np.array([position, position + 5])\n",
    "\n",
    "\n",
    "    \"\"\"Car accelerates normally.\"\"\"\n",
    "    def accelerate_car(self):\n",
    "\n",
    "\n",
    "    \"\"\"Car matches speed of car in front if about to hit.\"\"\"\n",
    "    def is_car_close(self):\n",
    "\n",
    "    \"\"\"Car randomly slows 2 m/s at 10% chance\"\"\"\n",
    "    def is_car_slowing(self):\n",
    "        if random.random() = self.slow_percentage\n",
    "            return self.accel -= 2\n"
   ]
  },
  {
   "cell_type": "code",
   "execution_count": 2,
   "metadata": {
    "collapsed": false
   },
   "outputs": [
    {
     "ename": "SyntaxError",
     "evalue": "unexpected EOF while parsing (<ipython-input-2-98ab0dc98123>, line 15)",
     "output_type": "error",
     "traceback": [
      "\u001b[0;36m  File \u001b[0;32m\"<ipython-input-2-98ab0dc98123>\"\u001b[0;36m, line \u001b[0;32m15\u001b[0m\n\u001b[0;31m    def position_car(self):\u001b[0m\n\u001b[0m                           ^\u001b[0m\n\u001b[0;31mSyntaxError\u001b[0m\u001b[0;31m:\u001b[0m unexpected EOF while parsing\n"
     ]
    }
   ],
   "source": [
    "class Road:\n",
    "    def __init__(self, length=1000, cars=30, list_of_cars):\n",
    "        self.length = length\n",
    "        self.cars = cars\n",
    "        self.list_of_cars = []\n",
    "\n",
    "    \"\"\"Place cars on road\"\"\"\n",
    "    def populate_cars(self):\n",
    "        position = 0\n",
    "        for _ in range(self.cars):\n",
    "            self.list_of_cars.append(Car(position))\n",
    "            position += (self.length / self.cars)\n",
    "        return self.list_of_cars\n",
    "\n",
    "    def position_car(self):\n"
   ]
  },
  {
   "cell_type": "code",
   "execution_count": null,
   "metadata": {
    "collapsed": true
   },
   "outputs": [],
   "source": [
    "class Simulation:\n",
    "    def __init__(self, max_time=60):\n",
    "        self.max_time = max_time\n",
    "\n",
    "    def run_simulation():\n"
   ]
  }
 ],
 "metadata": {
  "kernelspec": {
   "display_name": "Python 3",
   "language": "python",
   "name": "python3"
  },
  "language_info": {
   "codemirror_mode": {
    "name": "ipython",
    "version": 3
   },
   "file_extension": ".py",
   "mimetype": "text/x-python",
   "name": "python",
   "nbconvert_exporter": "python",
   "pygments_lexer": "ipython3",
   "version": "3.5.2"
  }
 },
 "nbformat": 4,
 "nbformat_minor": 0
}
